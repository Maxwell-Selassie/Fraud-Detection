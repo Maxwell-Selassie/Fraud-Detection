{
 "cells": [
  {
   "cell_type": "code",
   "execution_count": null,
   "id": "17afb9f2",
   "metadata": {},
   "outputs": [],
   "source": [
    "from sklearn.preprocessing import StandardScaler, RobustScaler, OneHotEncoder\n",
    "from sklearn.compose import ColumnTransformer\n",
    "from sklearn.pipeline import Pipeline\n",
    "from category_encoders import CountEncoder, HashingEncoder\n",
    "# define numeric features\n",
    "numeric_features = df.select_dtypes(include=[np.number]).columns.tolist()\n",
    "one_hot_features = ['Channel','CustomerOccupation','TransactionType']\n",
    "freq_features = ['Location','MerchantID']\n",
    "hash_features = ['AccountID','DeviceID','IP Address']\n",
    "df.drop(columns=['TransactionID','TransactionDate','PreviousTransactionDate'])\n",
    "# define transformers \n",
    "num_transformer = Pipeline(steps=[\n",
    "    ('scaler', StandardScaler())\n",
    "])\n",
    "\n",
    "robust_features = ['AccountBalance', 'TransactionAmount_log']\n",
    "robust_transformer = Pipeline(steps=[\n",
    "    ('robust', RobustScaler())\n",
    "])\n",
    "\n",
    "onehot_transformer = Pipeline(steps=[\n",
    "    ('encoder', OneHotEncoder(handle_unknown='ignore'))\n",
    "])\n",
    "\n",
    "hash_transformer = Pipeline(steps=[\n",
    "    ('encoder',HashingEncoder(n_components=16))\n",
    "])\n",
    "\n",
    "freq_transformer = Pipeline(steps=[\n",
    "    ('encoder',CountEncoder())\n",
    "])\n",
    "\n",
    "# combine into a column transformer\n",
    "preprocessor = ColumnTransformer(transformers=[\n",
    "    ('num',num_transformer, numeric_features),\n",
    "    ('robust',robust_transformer,robust_features),\n",
    "    ('onehot',onehot_transformer,one_hot_features),\n",
    "    ('freq',freq_transformer, freq_features),\n",
    "    ('hash',hash_transformer,hash_features)\n",
    "],remainder='passthrough', verbose_feature_names_out=False)"
   ]
  },
  {
   "cell_type": "code",
   "execution_count": null,
   "id": "fdb85f80",
   "metadata": {},
   "outputs": [],
   "source": [
    "# main train function\n"
   ]
  }
 ],
 "metadata": {
  "language_info": {
   "name": "python"
  }
 },
 "nbformat": 4,
 "nbformat_minor": 5
}
